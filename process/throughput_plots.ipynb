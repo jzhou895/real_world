{
 "cells": [
  {
   "cell_type": "code",
   "execution_count": null,
   "id": "007e44db",
   "metadata": {},
   "outputs": [],
   "source": [
    "THR_DIR = \"/proj/verifiedmlsys-PG0/rohitd99/c3_throughput\""
   ]
  },
  {
   "cell_type": "code",
   "execution_count": null,
   "id": "d6ac5a4f",
   "metadata": {},
   "outputs": [],
   "source": [
    "import os\n",
    "import numpy as np\n",
    "import pandas as pd\n",
    "import matplotlib.pyplot as plt"
   ]
  },
  {
   "cell_type": "code",
   "execution_count": null,
   "id": "132c58f5",
   "metadata": {},
   "outputs": [],
   "source": [
    "directory = \"ksc10_cid6\"\n",
    "directory = os.path.join(THR_DIR, directory)"
   ]
  },
  {
   "cell_type": "code",
   "execution_count": null,
   "id": "32e731a4",
   "metadata": {},
   "outputs": [],
   "source": [
    "all_data = {}\n",
    "MIN_TS = None\n",
    "MIN_TS_IDX = -1\n",
    "for file in os.listdir(directory):\n",
    "    df = pd.read_csv(os.path.join(directory, file), names=['ksc', 'epoch', 'ts'])\n",
    "    df = df[['epoch', 'ts']]\n",
    "    if MIN_TS is None:\n",
    "        MIN_TS = df['ts'].min()\n",
    "        MIN_TS_IDX = file\n",
    "        all_data['epoch'] = df['epoch']\n",
    "    else:\n",
    "        if df['ts'].min() < MIN_TS:\n",
    "            MIN_TS = df['ts'].min()\n",
    "            MIN_TS_IDX = file\n",
    "            all_data['epoch'] = df['epoch']\n",
    "    \n",
    "    actor_id = file.split('-')[-1].split('.')[0].replace('actor', '')\n",
    "    all_data[f\"actor{actor_id}\"] = pd.Series(df['ts'])"
   ]
  },
  {
   "cell_type": "code",
   "execution_count": null,
   "id": "4b0c8108",
   "metadata": {
    "scrolled": false
   },
   "outputs": [],
   "source": [
    "cleaned_df = pd.DataFrame(all_data)\n",
    "\n",
    "actor_cols = list(cleaned_df)\n",
    "actor_cols.remove('epoch')\n",
    "\n",
    "cleaned_df[actor_cols] -= MIN_TS\n",
    "last_actor_start_time = cleaned_df[actor_cols].loc[0].max()"
   ]
  },
  {
   "cell_type": "code",
   "execution_count": null,
   "id": "b0999cd5",
   "metadata": {
    "scrolled": false
   },
   "outputs": [],
   "source": [
    "throughputs = []\n",
    "n_epochs = []\n",
    "for c in actor_cols:\n",
    "    tmp = cleaned_df[cleaned_df[c] >= last_actor_start_time][['epoch', c]]\n",
    "    if len(tmp) > 1:\n",
    "        throughputs.append(\n",
    "            (tmp['epoch'].iloc[-1] - tmp['epoch'].iloc[0]) / (tmp[c].iloc[-1] - tmp[c].iloc[0])\n",
    "        )\n",
    "        n_epochs.append((tmp['epoch'].iloc[-1] - tmp['epoch'].iloc[0]))\n",
    "throughputs = np.asarray(throughputs)\n",
    "throughputs = throughputs[~np.isnan(throughputs)] \n",
    "print(len(throughputs))"
   ]
  },
  {
   "cell_type": "code",
   "execution_count": null,
   "id": "831ad1f2",
   "metadata": {},
   "outputs": [],
   "source": [
    "round(np.mean(throughputs), 1)"
   ]
  },
  {
   "cell_type": "code",
   "execution_count": null,
   "id": "e318cdf4",
   "metadata": {},
   "outputs": [],
   "source": []
  }
 ],
 "metadata": {
  "kernelspec": {
   "display_name": "Python 3",
   "language": "python",
   "name": "python3"
  },
  "language_info": {
   "codemirror_mode": {
    "name": "ipython",
    "version": 3
   },
   "file_extension": ".py",
   "mimetype": "text/x-python",
   "name": "python",
   "nbconvert_exporter": "python",
   "pygments_lexer": "ipython3",
   "version": "3.6.9"
  }
 },
 "nbformat": 4,
 "nbformat_minor": 5
}
