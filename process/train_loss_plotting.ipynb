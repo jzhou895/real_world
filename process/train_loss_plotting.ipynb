{
 "cells": [
  {
   "cell_type": "code",
   "execution_count": null,
   "id": "31021fe6",
   "metadata": {},
   "outputs": [],
   "source": [
    "from train_loss import get_actor_logs, make_plots\n",
    "\n",
    "TO_PLOT = ['sensitivity_lambda_weightage_0.75']\n",
    "DATA = list(map(lambda x: get_actor_logs(x), TO_PLOT))\n",
    "\n",
    "make_plots(DATA, TO_PLOT, num_steps=50_000)"
   ]
  }
 ],
 "metadata": {
  "kernelspec": {
   "display_name": "Python 3",
   "language": "python",
   "name": "python3"
  },
  "language_info": {
   "codemirror_mode": {
    "name": "ipython",
    "version": 3
   },
   "file_extension": ".py",
   "mimetype": "text/x-python",
   "name": "python",
   "nbconvert_exporter": "python",
   "pygments_lexer": "ipython3",
   "version": "3.6.9"
  }
 },
 "nbformat": 4,
 "nbformat_minor": 5
}
